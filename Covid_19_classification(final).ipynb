{
  "nbformat": 4,
  "nbformat_minor": 0,
  "metadata": {
    "colab": {
      "provenance": [],
      "authorship_tag": "ABX9TyM8aBm6PdE/xBwdsZp8UsR2",
      "include_colab_link": true
    },
    "kernelspec": {
      "name": "python3",
      "display_name": "Python 3"
    },
    "language_info": {
      "name": "python"
    }
  },
  "cells": [
    {
      "cell_type": "markdown",
      "metadata": {
        "id": "view-in-github",
        "colab_type": "text"
      },
      "source": [
        "<a href=\"https://colab.research.google.com/github/Ezzeldin-nasser939/Covid_19_classification/blob/main/Covid_19_classification(final).ipynb\" target=\"_parent\"><img src=\"https://colab.research.google.com/assets/colab-badge.svg\" alt=\"Open In Colab\"/></a>"
      ]
    },
    {
      "cell_type": "code",
      "source": [
        "# import the necessary packages\n",
        "from keras.preprocessing.image import ImageDataGenerator\n",
        "from sklearn.preprocessing import LabelBinarizer\n",
        "from sklearn.model_selection import train_test_split\n",
        "from sklearn.metrics import classification_report\n",
        "from sklearn.metrics import confusion_matrix\n",
        "from imutils import paths\n",
        "import matplotlib.pyplot as plt\n",
        "import numpy as np\n",
        "import argparse\n",
        "import cv2\n",
        "import os\n",
        "import pandas as pd\n",
        "import keras\n",
        "from keras.models import *\n",
        "from keras.layers import Dense\n",
        "import matplotlib.pyplot as plt\n",
        "import numpy as np\n",
        "from skimage.util.dtype import convert\n",
        "from pathlib import Path\n",
        "from PIL import Image"
      ],
      "metadata": {
        "id": "KIGQ-v0DzNAl"
      },
      "execution_count": null,
      "outputs": []
    },
    {
      "cell_type": "code",
      "source": [
        "!pip install opendatasets\n",
        "!pip install pandas\n",
        "\n",
        "import opendatasets as od\n",
        "\n",
        "\n",
        "od.download(\"https://www.kaggle.com/datasets/pranavraikokte/covid19-image-dataset\")"
      ],
      "metadata": {
        "colab": {
          "base_uri": "https://localhost:8080/"
        },
        "id": "zGamrk5Bz6OK",
        "outputId": "51126dbc-c077-4674-b920-8dbcc603ec64"
      },
      "execution_count": null,
      "outputs": [
        {
          "output_type": "stream",
          "name": "stdout",
          "text": [
            "Looking in indexes: https://pypi.org/simple, https://us-python.pkg.dev/colab-wheels/public/simple/\n",
            "Collecting opendatasets\n",
            "  Downloading opendatasets-0.1.22-py3-none-any.whl (15 kB)\n",
            "Requirement already satisfied: tqdm in /usr/local/lib/python3.7/dist-packages (from opendatasets) (4.64.1)\n",
            "Requirement already satisfied: kaggle in /usr/local/lib/python3.7/dist-packages (from opendatasets) (1.5.12)\n",
            "Requirement already satisfied: click in /usr/local/lib/python3.7/dist-packages (from opendatasets) (7.1.2)\n",
            "Requirement already satisfied: certifi in /usr/local/lib/python3.7/dist-packages (from kaggle->opendatasets) (2022.6.15)\n",
            "Requirement already satisfied: python-dateutil in /usr/local/lib/python3.7/dist-packages (from kaggle->opendatasets) (2.8.2)\n",
            "Requirement already satisfied: requests in /usr/local/lib/python3.7/dist-packages (from kaggle->opendatasets) (2.23.0)\n",
            "Requirement already satisfied: urllib3 in /usr/local/lib/python3.7/dist-packages (from kaggle->opendatasets) (1.24.3)\n",
            "Requirement already satisfied: six>=1.10 in /usr/local/lib/python3.7/dist-packages (from kaggle->opendatasets) (1.15.0)\n",
            "Requirement already satisfied: python-slugify in /usr/local/lib/python3.7/dist-packages (from kaggle->opendatasets) (6.1.2)\n",
            "Requirement already satisfied: text-unidecode>=1.3 in /usr/local/lib/python3.7/dist-packages (from python-slugify->kaggle->opendatasets) (1.3)\n",
            "Requirement already satisfied: idna<3,>=2.5 in /usr/local/lib/python3.7/dist-packages (from requests->kaggle->opendatasets) (2.10)\n",
            "Requirement already satisfied: chardet<4,>=3.0.2 in /usr/local/lib/python3.7/dist-packages (from requests->kaggle->opendatasets) (3.0.4)\n",
            "Installing collected packages: opendatasets\n",
            "Successfully installed opendatasets-0.1.22\n",
            "Looking in indexes: https://pypi.org/simple, https://us-python.pkg.dev/colab-wheels/public/simple/\n",
            "Requirement already satisfied: pandas in /usr/local/lib/python3.7/dist-packages (1.3.5)\n",
            "Requirement already satisfied: python-dateutil>=2.7.3 in /usr/local/lib/python3.7/dist-packages (from pandas) (2.8.2)\n",
            "Requirement already satisfied: pytz>=2017.3 in /usr/local/lib/python3.7/dist-packages (from pandas) (2022.2.1)\n",
            "Requirement already satisfied: numpy>=1.17.3 in /usr/local/lib/python3.7/dist-packages (from pandas) (1.21.6)\n",
            "Requirement already satisfied: six>=1.5 in /usr/local/lib/python3.7/dist-packages (from python-dateutil>=2.7.3->pandas) (1.15.0)\n",
            "Please provide your Kaggle credentials to download this dataset. Learn more: http://bit.ly/kaggle-creds\n",
            "Your Kaggle username: ezzeldinnasser22\n",
            "Your Kaggle Key: ··········\n",
            "Downloading covid19-image-dataset.zip to ./covid19-image-dataset\n"
          ]
        },
        {
          "output_type": "stream",
          "name": "stderr",
          "text": [
            "100%|██████████| 158M/158M [00:01<00:00, 149MB/s]\n"
          ]
        },
        {
          "output_type": "stream",
          "name": "stdout",
          "text": [
            "\n"
          ]
        }
      ]
    },
    {
      "cell_type": "code",
      "source": [
        "tarin_covid=[]\n",
        "labels_covid=[]\n",
        "files =Path('/content/covid19-image-dataset/Covid19-dataset/train/Covid').glob('*')\n",
        "for myFile in files:\n",
        "  img=Image.open(myFile)\n",
        "  img = img.convert('L')\n",
        "  img=img.resize((256,256))\n",
        "  img=np.array(img)\n",
        "  tarin_covid.append(img)\n",
        "  labels_covid.append(1)"
      ],
      "metadata": {
        "id": "hZsPzSIz_Yg3"
      },
      "execution_count": null,
      "outputs": []
    },
    {
      "cell_type": "code",
      "source": [
        "tarin_covid=np.array(tarin_covid)\n",
        "labels_covid=np.array(labels_covid)\n",
        "print(tarin_covid.shape)\n",
        "print(labels_covid.shape)"
      ],
      "metadata": {
        "colab": {
          "base_uri": "https://localhost:8080/"
        },
        "id": "GEsCynnCUm63",
        "outputId": "6775167a-0c0d-4a5e-a91b-a3db090b085b"
      },
      "execution_count": null,
      "outputs": [
        {
          "output_type": "stream",
          "name": "stdout",
          "text": [
            "(111, 256, 256)\n",
            "(111,)\n"
          ]
        }
      ]
    },
    {
      "cell_type": "code",
      "source": [
        "tarin_normal=[]\n",
        "labels_normal=[]\n",
        "files =Path('/content/covid19-image-dataset/Covid19-dataset/train/Normal').glob('*')\n",
        "for myFile in files:\n",
        "  img=Image.open(myFile)\n",
        "  img = img.convert('L')\n",
        "  img=img.resize((256,256))\n",
        "  img=np.array(img)\n",
        "  tarin_normal.append(img)\n",
        "  labels_normal.append(0)"
      ],
      "metadata": {
        "id": "gbPojzzDGzQu"
      },
      "execution_count": null,
      "outputs": []
    },
    {
      "cell_type": "code",
      "source": [
        "tarin_normal=np.array(tarin_normal)\n",
        "labels_normal=np.array(labels_normal)\n",
        "print(tarin_normal.shape)\n",
        "print(labels_normal.shape)"
      ],
      "metadata": {
        "colab": {
          "base_uri": "https://localhost:8080/"
        },
        "id": "pc3XYShX7UAT",
        "outputId": "43599982-076a-4bb8-c3aa-e1d7a353f9d4"
      },
      "execution_count": null,
      "outputs": [
        {
          "output_type": "stream",
          "name": "stdout",
          "text": [
            "(70, 256, 256)\n",
            "(70,)\n"
          ]
        }
      ]
    },
    {
      "cell_type": "code",
      "source": [
        "test_covid=[]\n",
        "test_labels_covid=[]\n",
        "files =Path('/content/covid19-image-dataset/Covid19-dataset/test/Covid').glob('*')\n",
        "for myFile in files:\n",
        "  img=Image.open(myFile)\n",
        "  img = img.convert('L')\n",
        "  img=img.resize((256,256))\n",
        "  img=np.array(img)\n",
        "  test_covid.append(img)\n",
        "  test_labels_covid.append(1)"
      ],
      "metadata": {
        "id": "jXSfd3wyjZAu"
      },
      "execution_count": null,
      "outputs": []
    },
    {
      "cell_type": "code",
      "source": [
        "test_covid=np.array(test_covid)\n",
        "test_labels_covid=np.array(test_labels_covid)\n",
        "print(test_covid.shape)\n",
        "print(test_labels_covid.shape)"
      ],
      "metadata": {
        "colab": {
          "base_uri": "https://localhost:8080/"
        },
        "id": "WsNIWbGqjjj-",
        "outputId": "b6e64727-f991-4239-a09b-df62fd9696ee"
      },
      "execution_count": null,
      "outputs": [
        {
          "output_type": "stream",
          "name": "stdout",
          "text": [
            "(26, 256, 256)\n",
            "(26,)\n"
          ]
        }
      ]
    },
    {
      "cell_type": "code",
      "source": [
        "test_normal=[]\n",
        "test_labels_normal=[]\n",
        "files =Path('/content/covid19-image-dataset/Covid19-dataset/test/Normal').glob('*')\n",
        "for myFile in files:\n",
        "  img=Image.open(myFile)\n",
        "  img = img.convert('L')\n",
        "  img=img.resize((256,256))\n",
        "  img=np.array(img)\n",
        "  test_normal.append(img)\n",
        "  test_labels_normal.append(0)"
      ],
      "metadata": {
        "id": "8mOh_hrDjwW1"
      },
      "execution_count": null,
      "outputs": []
    },
    {
      "cell_type": "code",
      "source": [
        "test_normal=np.array(test_normal)\n",
        "test_labels_normal=np.array(test_labels_normal)\n",
        "print(test_normal.shape)\n",
        "print(test_labels_normal.shape)"
      ],
      "metadata": {
        "colab": {
          "base_uri": "https://localhost:8080/"
        },
        "id": "bcPM6e5Nj7JI",
        "outputId": "cfa2181e-b091-41ac-a512-dad935d29b34"
      },
      "execution_count": null,
      "outputs": [
        {
          "output_type": "stream",
          "name": "stdout",
          "text": [
            "(20, 256, 256)\n",
            "(20,)\n"
          ]
        }
      ]
    },
    {
      "cell_type": "code",
      "source": [
        "x_train=np.concatenate((tarin_normal,tarin_covid))\n",
        "y_train=np.concatenate((labels_normal,labels_covid))\n",
        "print(x_train.shape)\n",
        "print(y_train.shape)"
      ],
      "metadata": {
        "colab": {
          "base_uri": "https://localhost:8080/"
        },
        "id": "015_V0idkAY3",
        "outputId": "4ef4e711-b03e-4941-c12d-5d024e94f33e"
      },
      "execution_count": null,
      "outputs": [
        {
          "output_type": "stream",
          "name": "stdout",
          "text": [
            "(181, 256, 256)\n",
            "(181,)\n"
          ]
        }
      ]
    },
    {
      "cell_type": "code",
      "source": [
        "x_test=np.concatenate((test_normal,test_covid))\n",
        "y_test=np.concatenate((test_labels_normal,test_labels_covid))\n",
        "print(x_test.shape)\n",
        "print(y_test.shape)"
      ],
      "metadata": {
        "colab": {
          "base_uri": "https://localhost:8080/"
        },
        "id": "zKuFdNfxkzq3",
        "outputId": "7e5b34df-b658-4d54-da37-f9af23a4783c"
      },
      "execution_count": null,
      "outputs": [
        {
          "output_type": "stream",
          "name": "stdout",
          "text": [
            "(46, 256, 256)\n",
            "(46,)\n"
          ]
        }
      ]
    },
    {
      "cell_type": "code",
      "source": [
        "x_test[0]"
      ],
      "metadata": {
        "colab": {
          "base_uri": "https://localhost:8080/"
        },
        "id": "B69_m1b-mDIW",
        "outputId": "d00e42d9-5b79-4fe7-f716-c4db097781dd"
      },
      "execution_count": null,
      "outputs": [
        {
          "output_type": "execute_result",
          "data": {
            "text/plain": [
              "array([[ 58,  54,  55, ..., 120, 118, 114],\n",
              "       [ 61,  59,  61, ..., 122, 121, 122],\n",
              "       [ 67,  63,  65, ..., 122, 122, 126],\n",
              "       ...,\n",
              "       [  0,   0,   0, ...,   0,   0,   0],\n",
              "       [  0,   0,   0, ...,   0,   0,   0],\n",
              "       [  0,   0,   0, ...,   0,   0,   0]], dtype=uint8)"
            ]
          },
          "metadata": {},
          "execution_count": 13
        }
      ]
    },
    {
      "cell_type": "code",
      "source": [
        "x_train_final=x_train/255\n",
        "x_test_final=x_test/255"
      ],
      "metadata": {
        "id": "HGgSzH9DIPE7"
      },
      "execution_count": null,
      "outputs": []
    },
    {
      "cell_type": "code",
      "source": [
        "print(x_train_final[1])"
      ],
      "metadata": {
        "colab": {
          "base_uri": "https://localhost:8080/"
        },
        "id": "F-FQrYZgmIAR",
        "outputId": "71f3a973-e24e-4c82-b02d-e277db29c469"
      },
      "execution_count": null,
      "outputs": [
        {
          "output_type": "stream",
          "name": "stdout",
          "text": [
            "[[0.03137255 0.03529412 0.03529412 ... 0.02352941 0.02352941 0.02352941]\n",
            " [0.02745098 0.03529412 0.03529412 ... 0.01960784 0.01960784 0.01960784]\n",
            " [0.02745098 0.03137255 0.03137255 ... 0.01176471 0.01568627 0.01176471]\n",
            " ...\n",
            " [0.02352941 0.02745098 0.02352941 ... 0.03529412 0.03529412 0.03137255]\n",
            " [0.02745098 0.02745098 0.02352941 ... 0.03529412 0.03529412 0.03529412]\n",
            " [0.02745098 0.02745098 0.02352941 ... 0.03529412 0.03529412 0.03529412]]\n"
          ]
        }
      ]
    },
    {
      "cell_type": "code",
      "source": [
        "x_train_final=x_train_final.reshape(-1,65536)\n",
        "x_test_final=x_test_final.reshape(-1,65536)\n",
        "print(x_train_final.shape)\n",
        "print(x_test_final.shape)"
      ],
      "metadata": {
        "colab": {
          "base_uri": "https://localhost:8080/"
        },
        "id": "aP_en7TslHJm",
        "outputId": "cfbd05d1-4e82-495f-f09e-5abc28478686"
      },
      "execution_count": null,
      "outputs": [
        {
          "output_type": "stream",
          "name": "stdout",
          "text": [
            "(181, 65536)\n",
            "(46, 65536)\n"
          ]
        }
      ]
    },
    {
      "cell_type": "code",
      "source": [
        "model = keras.Sequential()\n",
        "model.add(keras.layers.Dense(1,input_shape=(65536,), activation=\"sigmoid\"))\n",
        "model.compile(optimizer='sgd',loss= 'binary_crossentropy',metrics=['accuracy'])"
      ],
      "metadata": {
        "id": "gTcKVgrWORMU"
      },
      "execution_count": null,
      "outputs": []
    },
    {
      "cell_type": "code",
      "source": [
        "#results = model.fit(x=x_train, y=y_train,shuffle=True,epochs=10)\n",
        "results=model.fit(\n",
        "  x=x_train_final,\n",
        "  y=y_train,\n",
        "  shuffle=True,\n",
        "  epochs=20,\n",
        "  validation_data=(x_test_final,y_test)\n",
        ")"
      ],
      "metadata": {
        "colab": {
          "base_uri": "https://localhost:8080/"
        },
        "id": "cpahCwUIOTv6",
        "outputId": "5d53cde8-26e4-4195-815f-fde4cc496bfd"
      },
      "execution_count": null,
      "outputs": [
        {
          "output_type": "stream",
          "name": "stdout",
          "text": [
            "Epoch 1/20\n",
            "6/6 [==============================] - 1s 102ms/step - loss: 16.5613 - accuracy: 0.4586 - val_loss: 5.5325 - val_accuracy: 0.5652\n",
            "Epoch 2/20\n",
            "6/6 [==============================] - 0s 25ms/step - loss: 14.7278 - accuracy: 0.5470 - val_loss: 9.0840 - val_accuracy: 0.5217\n",
            "Epoch 3/20\n",
            "6/6 [==============================] - 0s 24ms/step - loss: 9.0542 - accuracy: 0.5525 - val_loss: 2.1323 - val_accuracy: 0.8696\n",
            "Epoch 4/20\n",
            "6/6 [==============================] - 0s 19ms/step - loss: 0.5993 - accuracy: 0.9392 - val_loss: 0.9694 - val_accuracy: 0.9130\n",
            "Epoch 5/20\n",
            "6/6 [==============================] - 0s 15ms/step - loss: 0.3962 - accuracy: 0.9558 - val_loss: 2.1908 - val_accuracy: 0.8696\n",
            "Epoch 6/20\n",
            "6/6 [==============================] - 0s 38ms/step - loss: 0.6513 - accuracy: 0.9282 - val_loss: 0.7196 - val_accuracy: 0.9348\n",
            "Epoch 7/20\n",
            "6/6 [==============================] - 0s 24ms/step - loss: 0.5274 - accuracy: 0.9337 - val_loss: 1.2252 - val_accuracy: 0.9130\n",
            "Epoch 8/20\n",
            "6/6 [==============================] - 0s 26ms/step - loss: 0.2980 - accuracy: 0.9613 - val_loss: 0.4672 - val_accuracy: 0.9565\n",
            "Epoch 9/20\n",
            "6/6 [==============================] - 0s 27ms/step - loss: 0.2733 - accuracy: 0.9834 - val_loss: 0.7653 - val_accuracy: 0.9348\n",
            "Epoch 10/20\n",
            "6/6 [==============================] - 0s 17ms/step - loss: 0.1863 - accuracy: 0.9834 - val_loss: 0.4582 - val_accuracy: 0.9783\n",
            "Epoch 11/20\n",
            "6/6 [==============================] - 0s 19ms/step - loss: 0.1553 - accuracy: 0.9669 - val_loss: 1.9151 - val_accuracy: 0.9130\n",
            "Epoch 12/20\n",
            "6/6 [==============================] - 0s 37ms/step - loss: 0.2807 - accuracy: 0.9724 - val_loss: 2.1114 - val_accuracy: 0.9130\n",
            "Epoch 13/20\n",
            "6/6 [==============================] - 0s 21ms/step - loss: 0.2948 - accuracy: 0.9724 - val_loss: 0.6769 - val_accuracy: 0.9565\n",
            "Epoch 14/20\n",
            "6/6 [==============================] - 0s 16ms/step - loss: 0.1183 - accuracy: 0.9834 - val_loss: 0.4040 - val_accuracy: 0.9783\n",
            "Epoch 15/20\n",
            "6/6 [==============================] - 0s 13ms/step - loss: 0.2017 - accuracy: 0.9779 - val_loss: 1.1770 - val_accuracy: 0.9130\n",
            "Epoch 16/20\n",
            "6/6 [==============================] - 0s 19ms/step - loss: 0.0969 - accuracy: 0.9724 - val_loss: 0.5637 - val_accuracy: 0.9565\n",
            "Epoch 17/20\n",
            "6/6 [==============================] - 0s 18ms/step - loss: 0.0951 - accuracy: 0.9834 - val_loss: 1.0731 - val_accuracy: 0.9130\n",
            "Epoch 18/20\n",
            "6/6 [==============================] - 0s 15ms/step - loss: 0.1350 - accuracy: 0.9669 - val_loss: 0.7136 - val_accuracy: 0.9348\n",
            "Epoch 19/20\n",
            "6/6 [==============================] - 0s 24ms/step - loss: 0.1083 - accuracy: 0.9779 - val_loss: 1.1394 - val_accuracy: 0.9130\n",
            "Epoch 20/20\n",
            "6/6 [==============================] - 0s 15ms/step - loss: 0.1228 - accuracy: 0.9779 - val_loss: 0.7132 - val_accuracy: 0.9348\n"
          ]
        }
      ]
    },
    {
      "cell_type": "code",
      "source": [
        "import matplotlib.pyplot as plt\n",
        "plt.plot(results.history['loss'])\n",
        "plt.plot(results.history['val_loss'])\n",
        "plt.legend(['Training','Vaildation'])\n",
        "plt.title('Training and Validation Losses')\n",
        "plt.xlabel('epoches')\n",
        "plt.ylabel('losses')"
      ],
      "metadata": {
        "colab": {
          "base_uri": "https://localhost:8080/",
          "height": 312
        },
        "id": "wRSx88u5l6RX",
        "outputId": "84936044-a34a-4a11-88d0-2384b35bd5b0"
      },
      "execution_count": null,
      "outputs": [
        {
          "output_type": "execute_result",
          "data": {
            "text/plain": [
              "Text(0, 0.5, 'losses')"
            ]
          },
          "metadata": {},
          "execution_count": 19
        },
        {
          "output_type": "display_data",
          "data": {
            "text/plain": [
              "<Figure size 432x288 with 1 Axes>"
            ],
            "image/png": "[encoded data removed]"
          },
          "metadata": {
            "needs_background": "light"
          }
        }
      ]
    },
    {
      "cell_type": "code",
      "source": [
        "import matplotlib.pyplot as plt\n",
        "plt.plot(results.history['accuracy'])\n",
        "plt.plot(results.history['val_accuracy'])\n",
        "plt.legend(['Training','Vaildation'])\n",
        "plt.title('Training and Validation Accuracy')\n",
        "plt.xlabel('epoches')\n",
        "plt.ylabel('accuracy')"
      ],
      "metadata": {
        "colab": {
          "base_uri": "https://localhost:8080/",
          "height": 312
        },
        "id": "8mocwK4el8q2",
        "outputId": "6f8b3eec-f238-4f49-db0c-747009a0b3c9"
      },
      "execution_count": null,
      "outputs": [
        {
          "output_type": "execute_result",
          "data": {
            "text/plain": [
              "Text(0, 0.5, 'accuracy')"
            ]
          },
          "metadata": {},
          "execution_count": 20
        },
        {
          "output_type": "display_data",
          "data": {
            "text/plain": [
              "<Figure size 432x288 with 1 Axes>"
            ],
            "image/png": "[encoded data removed]"
          },
          "metadata": {
            "needs_background": "light"
          }
        }
      ]
    }
  ]
}